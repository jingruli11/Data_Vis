{
 "cells": [
  {
   "cell_type": "code",
   "execution_count": 2,
   "metadata": {
    "collapsed": false
   },
   "outputs": [],
   "source": [
    "import pandas as pd\n",
    "import numpy as np"
   ]
  },
  {
   "cell_type": "code",
   "execution_count": 7,
   "metadata": {
    "collapsed": false
   },
   "outputs": [],
   "source": [
    "df1 = pd.DataFrame(data = {'Company Name': 'Google',\n",
    "                            'Major Business':'Mobile Web Search; Desktop Web Search; You Tube', \n",
    "                            'Revenue (billion)': 90.27,\n",
    "                            'Gross Income (billion)': 54.6,\n",
    "                            'Operating Income (billion)': 23.71,\n",
    "                            'Stock Price (August 2017)': 915.89,\n",
    "                            'Net Income (billion)': 19.74,\n",
    "                            'Total Assets (billion)': 167.49,\n",
    "                            'Employees (August 2017)': 75606}, index = [0])"
   ]
  },
  {
   "cell_type": "code",
   "execution_count": 8,
   "metadata": {
    "collapsed": true
   },
   "outputs": [],
   "source": [
    "df2 = pd.DataFrame(data = {'Company Name': 'IBM',\n",
    "                            'Major Business':'Cognitive Solutions Software; Cloud Services and Infrastructure; Business Analytics and Optimization', \n",
    "                            'Revenue (billion)': 79.92,\n",
    "                            'Gross Income (billion)': 37.59,\n",
    "                            'Operating Income (billion)': 13.03,\n",
    "                            'Stock Price (August 2017)': 143.74,\n",
    "                            'Net Income (billion)': 11.88,\n",
    "                            'Total Assets (billion)': 117.47,\n",
    "                            'Employees (August 2017)': 379592}, index = [0])"
   ]
  },
  {
   "cell_type": "code",
   "execution_count": 9,
   "metadata": {
    "collapsed": false
   },
   "outputs": [
    {
     "data": {
      "text/html": [
       "<div>\n",
       "<style>\n",
       "    .dataframe thead tr:only-child th {\n",
       "        text-align: right;\n",
       "    }\n",
       "\n",
       "    .dataframe thead th {\n",
       "        text-align: left;\n",
       "    }\n",
       "\n",
       "    .dataframe tbody tr th {\n",
       "        vertical-align: top;\n",
       "    }\n",
       "</style>\n",
       "<table border=\"1\" class=\"dataframe\">\n",
       "  <thead>\n",
       "    <tr style=\"text-align: right;\">\n",
       "      <th></th>\n",
       "      <th>Company Name</th>\n",
       "      <th>Employees (August 2017)</th>\n",
       "      <th>Gross Income (billion)</th>\n",
       "      <th>Major Business</th>\n",
       "      <th>Net Income (billion)</th>\n",
       "      <th>Operating Income (billion)</th>\n",
       "      <th>Revenue (billion)</th>\n",
       "      <th>Stock Price (August 2017)</th>\n",
       "      <th>Total Assets (billion)</th>\n",
       "    </tr>\n",
       "  </thead>\n",
       "  <tbody>\n",
       "    <tr>\n",
       "      <th>0</th>\n",
       "      <td>Google</td>\n",
       "      <td>75606</td>\n",
       "      <td>54.60</td>\n",
       "      <td>Mobile Web Search; Desktop Web Search; You Tube</td>\n",
       "      <td>19.74</td>\n",
       "      <td>23.71</td>\n",
       "      <td>90.27</td>\n",
       "      <td>915.89</td>\n",
       "      <td>167.49</td>\n",
       "    </tr>\n",
       "    <tr>\n",
       "      <th>1</th>\n",
       "      <td>IBM</td>\n",
       "      <td>379592</td>\n",
       "      <td>37.59</td>\n",
       "      <td>Cognitive Solutions Software; Cloud Services a...</td>\n",
       "      <td>11.88</td>\n",
       "      <td>13.03</td>\n",
       "      <td>79.92</td>\n",
       "      <td>143.74</td>\n",
       "      <td>117.47</td>\n",
       "    </tr>\n",
       "  </tbody>\n",
       "</table>\n",
       "</div>"
      ],
      "text/plain": [
       "  Company Name  Employees (August 2017)  Gross Income (billion)  \\\n",
       "0       Google                    75606                   54.60   \n",
       "1          IBM                   379592                   37.59   \n",
       "\n",
       "                                      Major Business  Net Income (billion)  \\\n",
       "0    Mobile Web Search; Desktop Web Search; You Tube                 19.74   \n",
       "1  Cognitive Solutions Software; Cloud Services a...                 11.88   \n",
       "\n",
       "   Operating Income (billion)  Revenue (billion)  Stock Price (August 2017)  \\\n",
       "0                       23.71              90.27                     915.89   \n",
       "1                       13.03              79.92                     143.74   \n",
       "\n",
       "   Total Assets (billion)  \n",
       "0                  167.49  \n",
       "1                  117.47  "
      ]
     },
     "execution_count": 9,
     "metadata": {},
     "output_type": "execute_result"
    }
   ],
   "source": [
    "df = df1.append(df2, ignore_index=True)\n",
    "df.head()"
   ]
  },
  {
   "cell_type": "code",
   "execution_count": 10,
   "metadata": {
    "collapsed": true
   },
   "outputs": [],
   "source": [
    "df.to_csv('IBM_vs_Google_Data.csv', index = False)"
   ]
  },
  {
   "cell_type": "code",
   "execution_count": null,
   "metadata": {
    "collapsed": true
   },
   "outputs": [],
   "source": []
  }
 ],
 "metadata": {
  "kernelspec": {
   "display_name": "Python 3",
   "language": "python",
   "name": "python3"
  },
  "language_info": {
   "codemirror_mode": {
    "name": "ipython",
    "version": 3
   },
   "file_extension": ".py",
   "mimetype": "text/x-python",
   "name": "python",
   "nbconvert_exporter": "python",
   "pygments_lexer": "ipython3",
   "version": "3.6.0"
  }
 },
 "nbformat": 4,
 "nbformat_minor": 2
}
