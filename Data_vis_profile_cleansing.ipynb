{
 "cells": [
  {
   "cell_type": "code",
   "execution_count": 1,
   "metadata": {
    "collapsed": true
   },
   "outputs": [],
   "source": [
    "import pandas as pd\n",
    "import numpy as np\n",
    "import matplotlib.pyplot as plt\n",
    "import seaborn as sns"
   ]
  },
  {
   "cell_type": "code",
   "execution_count": 2,
   "metadata": {
    "collapsed": false
   },
   "outputs": [
    {
     "data": {
      "text/html": [
       "<div>\n",
       "<style>\n",
       "    .dataframe thead tr:only-child th {\n",
       "        text-align: right;\n",
       "    }\n",
       "\n",
       "    .dataframe thead th {\n",
       "        text-align: left;\n",
       "    }\n",
       "\n",
       "    .dataframe tbody tr th {\n",
       "        vertical-align: top;\n",
       "    }\n",
       "</style>\n",
       "<table border=\"1\" class=\"dataframe\">\n",
       "  <thead>\n",
       "    <tr style=\"text-align: right;\">\n",
       "      <th></th>\n",
       "      <th>FirstName</th>\n",
       "      <th>LastName</th>\n",
       "      <th>Program</th>\n",
       "      <th>College</th>\n",
       "      <th>Major</th>\n",
       "      <th>WorkExperience</th>\n",
       "      <th>Timestamp</th>\n",
       "      <th>InternshipExperience</th>\n",
       "      <th>VisualTools</th>\n",
       "    </tr>\n",
       "  </thead>\n",
       "  <tbody>\n",
       "    <tr>\n",
       "      <th>0</th>\n",
       "      <td>Akashna</td>\n",
       "      <td>Anand</td>\n",
       "      <td>AA</td>\n",
       "      <td>India</td>\n",
       "      <td>Engineering</td>\n",
       "      <td>Tata Motors</td>\n",
       "      <td>2017-09-07</td>\n",
       "      <td>NaN</td>\n",
       "      <td>2.0</td>\n",
       "    </tr>\n",
       "    <tr>\n",
       "      <th>1</th>\n",
       "      <td>Ya-Hsuan</td>\n",
       "      <td>Chuo</td>\n",
       "      <td>AA</td>\n",
       "      <td>National Chengchi University</td>\n",
       "      <td>Management Information System, Econ</td>\n",
       "      <td>NaN</td>\n",
       "      <td>2017-09-10</td>\n",
       "      <td>1</td>\n",
       "      <td>2.0</td>\n",
       "    </tr>\n",
       "    <tr>\n",
       "      <th>2</th>\n",
       "      <td>Sifan</td>\n",
       "      <td>Du</td>\n",
       "      <td>AA</td>\n",
       "      <td>University of Florida</td>\n",
       "      <td>Information System</td>\n",
       "      <td>NaN</td>\n",
       "      <td>2017-09-07</td>\n",
       "      <td>multiple</td>\n",
       "      <td>NaN</td>\n",
       "    </tr>\n",
       "    <tr>\n",
       "      <th>3</th>\n",
       "      <td>Emma</td>\n",
       "      <td>Du</td>\n",
       "      <td>AA</td>\n",
       "      <td>College of William and Mary</td>\n",
       "      <td>Econ</td>\n",
       "      <td>risk, marketing, compliance</td>\n",
       "      <td>2017-09-08</td>\n",
       "      <td>NaN</td>\n",
       "      <td>1.0</td>\n",
       "    </tr>\n",
       "    <tr>\n",
       "      <th>4</th>\n",
       "      <td>Xu</td>\n",
       "      <td>Du</td>\n",
       "      <td>AA</td>\n",
       "      <td>Penn State</td>\n",
       "      <td>Finance</td>\n",
       "      <td>NaN</td>\n",
       "      <td>2017-09-11</td>\n",
       "      <td>multiple</td>\n",
       "      <td>2.0</td>\n",
       "    </tr>\n",
       "  </tbody>\n",
       "</table>\n",
       "</div>"
      ],
      "text/plain": [
       "  FirstName LastName Program                       College  \\\n",
       "0   Akashna    Anand      AA                         India   \n",
       "1  Ya-Hsuan     Chuo      AA  National Chengchi University   \n",
       "2     Sifan       Du      AA         University of Florida   \n",
       "3      Emma       Du      AA   College of William and Mary   \n",
       "4        Xu       Du      AA                    Penn State   \n",
       "\n",
       "                                 Major               WorkExperience  \\\n",
       "0                          Engineering                  Tata Motors   \n",
       "1  Management Information System, Econ                          NaN   \n",
       "2                   Information System                          NaN   \n",
       "3                                 Econ  risk, marketing, compliance   \n",
       "4                              Finance                          NaN   \n",
       "\n",
       "   Timestamp InternshipExperience  VisualTools  \n",
       "0 2017-09-07                  NaN          2.0  \n",
       "1 2017-09-10                    1          2.0  \n",
       "2 2017-09-07             multiple          NaN  \n",
       "3 2017-09-08                  NaN          1.0  \n",
       "4 2017-09-11             multiple          2.0  "
      ]
     },
     "execution_count": 2,
     "metadata": {},
     "output_type": "execute_result"
    }
   ],
   "source": [
    "df = pd.read_excel('data_vis_profile.xlsx', header = 0)\n",
    "df.head()"
   ]
  },
  {
   "cell_type": "code",
   "execution_count": 3,
   "metadata": {
    "collapsed": true
   },
   "outputs": [],
   "source": [
    "df.to_csv('data_vis_profile.csv', index = False)"
   ]
  },
  {
   "cell_type": "code",
   "execution_count": null,
   "metadata": {
    "collapsed": true
   },
   "outputs": [],
   "source": []
  }
 ],
 "metadata": {
  "kernelspec": {
   "display_name": "Python 3",
   "language": "python",
   "name": "python3"
  },
  "language_info": {
   "codemirror_mode": {
    "name": "ipython",
    "version": 3
   },
   "file_extension": ".py",
   "mimetype": "text/x-python",
   "name": "python",
   "nbconvert_exporter": "python",
   "pygments_lexer": "ipython3",
   "version": "3.6.0"
  }
 },
 "nbformat": 4,
 "nbformat_minor": 2
}
